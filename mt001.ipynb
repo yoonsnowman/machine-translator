{
 "cells": [
  {
   "cell_type": "code",
   "execution_count": null,
   "id": "ba2d2613",
   "metadata": {
    "vscode": {
     "languageId": "plaintext"
    }
   },
   "outputs": [],
   "source": [
    "print(\"Machine Translator\")"
   ]
  }
 ],
 "metadata": {
  "language_info": {
   "name": "python"
  }
 },
 "nbformat": 4,
 "nbformat_minor": 5
}
